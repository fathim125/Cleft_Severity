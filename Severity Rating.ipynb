{
 "cells": [
  {
   "cell_type": "code",
   "execution_count": 25,
   "metadata": {},
   "outputs": [],
   "source": [
    "#Image Morphology \n",
    "#Erosion\n",
    "\n",
    "import numpy as np\n",
    "def morph_erosion(img):\n",
    "    h, w, c = img.shape\n",
    "\n",
    "    # Create a numpy array to store the eroded image\n",
    "    eroded_img = np.zeros((h, w, c), np.uint8)\n",
    "\n",
    "    for row in range(1, h - 1):#0 to h - 1\n",
    "        for col in range(1, w - 1):\n",
    "            # Get the 3x3 neighborhood of the current pixel. There will be three 3x3 matrices - one for each channel\n",
    "            neighborhood = img[row-1:row+2, col-1:col+2]\n",
    "\n",
    "            # Find the minimum value for each channel in the neighborhood. Three min values will be output.\n",
    "            min_values = np.min(neighborhood, axis=(0, 1))\n",
    "\n",
    "            # Set the values of the current pixel in the eroded image to the minimum values\n",
    "            eroded_img[row, col] = min_values\n",
    "    return eroded_img"
   ]
  },
  {
   "cell_type": "code",
   "execution_count": 26,
   "metadata": {},
   "outputs": [],
   "source": [
    "import cv2\n",
    "import torch\n",
    "import lpips\n",
    "\n",
    "def LPIPs_score(img1_name,img2_name):\n",
    "\n",
    "    img0=lpips.im2tensor(lpips.load_image(img1_name))\n",
    "    img1=lpips.im2tensor(lpips.load_image(img2_name))\n",
    "\n",
    "    loss_fn = lpips.LPIPS(net='vgg') #SquezeNet, spatial=true\n",
    "    d = loss_fn.forward(img0, img1)\n",
    "    print(d.item())\n",
    "\n",
    "    return d.item()"
   ]
  },
  {
   "cell_type": "code",
   "execution_count": 27,
   "metadata": {},
   "outputs": [],
   "source": [
    "#Pearson Correlation\n",
    "def pearson_correlation(x, y):\n",
    "    n = len(x)\n",
    "    sum_x = sum(x)\n",
    "    sum_y = sum(y)\n",
    "    sum_x_squared = sum([x_i ** 2 for x_i in x])\n",
    "    sum_y_squared = sum([y_i ** 2 for y_i in y])\n",
    "    sum_of_products = sum([x[i] * y[i] for i in range(n)])\n",
    "    numerator = n * sum_of_products - sum_x * sum_y\n",
    "    denominator = ((n * sum_x_squared - sum_x ** 2) * (n * sum_y_squared - sum_y ** 2)) ** 0.5\n",
    "    return numerator / denominator"
   ]
  },
  {
   "cell_type": "code",
   "execution_count": 28,
   "metadata": {},
   "outputs": [],
   "source": [
    "def mean_squared_error(img1, img2):\n",
    "    # Ensure images have same dimensions\n",
    "    assert img1.shape == img2.shape, \"Images must have the same dimensions\"\n",
    "    \n",
    "    img1 = img1.astype('float16')\n",
    "    img2 = img2.astype('float16')\n",
    "\n",
    "    mse = 0\n",
    "    total_pixels = img1.shape[0] * img1.shape[1] * img1.shape[2]\n",
    "    \n",
    "    for i in range(img1.shape[0]):\n",
    "        for j in range(img1.shape[1]):\n",
    "            for k in range(img1.shape[2]):\n",
    "                mse += (img1[i, j, k] - img2[i, j, k]) ** 2\n",
    "    mse /= total_pixels\n",
    "\n",
    "    return mse"
   ]
  },
  {
   "cell_type": "code",
   "execution_count": 5,
   "metadata": {},
   "outputs": [
    {
     "name": "stdout",
     "output_type": "stream",
     "text": [
      "Setting up [LPIPS] perceptual loss: trunk [vgg], v[0.1], spatial [off]\n",
      "Loading model from: C:\\Users\\user\\anaconda3\\lib\\site-packages\\lpips\\weights\\v0.1\\vgg.pth\n",
      "0.02643613889813423\n",
      "Setting up [LPIPS] perceptual loss: trunk [vgg], v[0.1], spatial [off]\n",
      "Loading model from: C:\\Users\\user\\anaconda3\\lib\\site-packages\\lpips\\weights\\v0.1\\vgg.pth\n",
      "0.025859517976641655\n",
      "Setting up [LPIPS] perceptual loss: trunk [vgg], v[0.1], spatial [off]\n",
      "Loading model from: C:\\Users\\user\\anaconda3\\lib\\site-packages\\lpips\\weights\\v0.1\\vgg.pth\n",
      "0.025416379794478416\n",
      "Setting up [LPIPS] perceptual loss: trunk [vgg], v[0.1], spatial [off]\n",
      "Loading model from: C:\\Users\\user\\anaconda3\\lib\\site-packages\\lpips\\weights\\v0.1\\vgg.pth\n",
      "0.03046513721346855\n",
      "Setting up [LPIPS] perceptual loss: trunk [vgg], v[0.1], spatial [off]\n",
      "Loading model from: C:\\Users\\user\\anaconda3\\lib\\site-packages\\lpips\\weights\\v0.1\\vgg.pth\n",
      "0.03142934292554855\n",
      "Setting up [LPIPS] perceptual loss: trunk [vgg], v[0.1], spatial [off]\n",
      "Loading model from: C:\\Users\\user\\anaconda3\\lib\\site-packages\\lpips\\weights\\v0.1\\vgg.pth\n",
      "0.023125845938920975\n",
      "Setting up [LPIPS] perceptual loss: trunk [vgg], v[0.1], spatial [off]\n",
      "Loading model from: C:\\Users\\user\\anaconda3\\lib\\site-packages\\lpips\\weights\\v0.1\\vgg.pth\n",
      "0.02926608733832836\n",
      "Setting up [LPIPS] perceptual loss: trunk [vgg], v[0.1], spatial [off]\n",
      "Loading model from: C:\\Users\\user\\anaconda3\\lib\\site-packages\\lpips\\weights\\v0.1\\vgg.pth\n",
      "0.02723846584558487\n",
      "Setting up [LPIPS] perceptual loss: trunk [vgg], v[0.1], spatial [off]\n",
      "Loading model from: C:\\Users\\user\\anaconda3\\lib\\site-packages\\lpips\\weights\\v0.1\\vgg.pth\n",
      "0.031136121600866318\n",
      "Setting up [LPIPS] perceptual loss: trunk [vgg], v[0.1], spatial [off]\n",
      "Loading model from: C:\\Users\\user\\anaconda3\\lib\\site-packages\\lpips\\weights\\v0.1\\vgg.pth\n",
      "0.027272747829556465\n",
      "Setting up [LPIPS] perceptual loss: trunk [vgg], v[0.1], spatial [off]\n",
      "Loading model from: C:\\Users\\user\\anaconda3\\lib\\site-packages\\lpips\\weights\\v0.1\\vgg.pth\n",
      "0.024295330047607422\n",
      "Setting up [LPIPS] perceptual loss: trunk [vgg], v[0.1], spatial [off]\n",
      "Loading model from: C:\\Users\\user\\anaconda3\\lib\\site-packages\\lpips\\weights\\v0.1\\vgg.pth\n",
      "0.026825711131095886\n",
      "Setting up [LPIPS] perceptual loss: trunk [vgg], v[0.1], spatial [off]\n",
      "Loading model from: C:\\Users\\user\\anaconda3\\lib\\site-packages\\lpips\\weights\\v0.1\\vgg.pth\n",
      "0.02626250684261322\n"
     ]
    }
   ],
   "source": [
    "import numpy as np\n",
    "from skimage import io\n",
    "from matplotlib import pyplot as plt\n",
    "import skimage\n",
    "from skimage import metrics\n",
    "\n",
    "PxlSub_list=[]\n",
    "SSIM_list=[]\n",
    "mse_list=[]\n",
    "psnr_list=[]\n",
    "LPIPS_list=[]\n",
    "humanratings=[2.796,1.867,2.702,2.244,2.021,2.63,2.625,2.551,3.208,4.813,2.646,3.915,2.565]\n",
    "\n",
    "for x in range(1,14):\n",
    "    name1=f\"{x}.png\"\n",
    "    name2=f'Standard_mask{x}.png'\n",
    "    \n",
    "    image1 = io.imread(name1)\n",
    "    image2 = io.imread(name2)\n",
    "    \n",
    "#Image Compasison Techniques:\n",
    "    \n",
    "    SSIM=skimage.metrics.structural_similarity(image1, image2, multichannel=True)\n",
    "    SSIM_list.append(SSIM)\n",
    "    \n",
    "    mse = mean_squared_error(image1, image2)\n",
    "    mse_list.append(mse)\n",
    "    \n",
    "    PxlSub = 5-(np.log10(np.sqrt(mse)*100000))\n",
    "    PxlSub_list.append(PxlSub)\n",
    "    \n",
    "    psnr=10*np.log10((255 ** 2)/mse)\n",
    "    psnr_list.append(psnr)\n",
    "    \n",
    "    LPIPSscore=LPIPs_score(name1,name2)\n",
    "    LPIPS_list.append(LPIPSscore)\n",
    "    \n",
    "#Displaying Image Difference\n",
    "    \n",
    "    image1=np.asarray(image1,np.int16)\n",
    "    image2=np.asarray(image2,np.int16)\n",
    "\n",
    "    diffmap=np.abs(np.subtract(image1,image2)).mean(axis=2)\n",
    "    diffmap=np.asarray(diffmap,np.uint8)\n",
    "\n",
    "    difference_image = np.abs(image1 - image2)\n"
   ]
  },
  {
   "cell_type": "code",
   "execution_count": 22,
   "metadata": {},
   "outputs": [
    {
     "ename": "NameError",
     "evalue": "name 'mse_list' is not defined",
     "output_type": "error",
     "traceback": [
      "\u001b[1;31m---------------------------------------------------------------------------\u001b[0m",
      "\u001b[1;31mNameError\u001b[0m                                 Traceback (most recent call last)",
      "\u001b[1;32m<ipython-input-22-d071e8c35ab8>\u001b[0m in \u001b[0;36m<module>\u001b[1;34m\u001b[0m\n\u001b[1;32m----> 1\u001b[1;33m \u001b[0mprint\u001b[0m\u001b[1;33m(\u001b[0m\u001b[0mmse_list\u001b[0m\u001b[1;33m)\u001b[0m\u001b[1;33m\u001b[0m\u001b[1;33m\u001b[0m\u001b[0m\n\u001b[0m\u001b[0;32m      2\u001b[0m \u001b[0mrmse_list\u001b[0m\u001b[1;33m=\u001b[0m\u001b[1;33m[\u001b[0m\u001b[1;33m]\u001b[0m\u001b[1;33m\u001b[0m\u001b[1;33m\u001b[0m\u001b[0m\n\u001b[0;32m      3\u001b[0m \u001b[1;32mfor\u001b[0m \u001b[0mmse\u001b[0m \u001b[1;32min\u001b[0m \u001b[0mmse_list\u001b[0m\u001b[1;33m:\u001b[0m\u001b[1;33m\u001b[0m\u001b[1;33m\u001b[0m\u001b[0m\n\u001b[0;32m      4\u001b[0m     \u001b[0mrmse_list\u001b[0m\u001b[1;33m.\u001b[0m\u001b[0mappend\u001b[0m\u001b[1;33m(\u001b[0m\u001b[0mnp\u001b[0m\u001b[1;33m.\u001b[0m\u001b[0msqrt\u001b[0m\u001b[1;33m(\u001b[0m\u001b[0mmse\u001b[0m\u001b[1;33m)\u001b[0m\u001b[1;33m)\u001b[0m\u001b[1;33m\u001b[0m\u001b[1;33m\u001b[0m\u001b[0m\n\u001b[0;32m      5\u001b[0m \u001b[0mprint\u001b[0m\u001b[1;33m(\u001b[0m\u001b[0mrmse_list\u001b[0m\u001b[1;33m)\u001b[0m\u001b[1;33m\u001b[0m\u001b[1;33m\u001b[0m\u001b[0m\n",
      "\u001b[1;31mNameError\u001b[0m: name 'mse_list' is not defined"
     ]
    }
   ],
   "source": [
    "#Calculating the Root mean sqaure\n",
    "rmse_list=[]\n",
    "for mse in mse_list:\n",
    "    rmse_list.append(np.sqrt(mse))"
   ]
  },
  {
   "cell_type": "code",
   "execution_count": 4,
   "metadata": {},
   "outputs": [
    {
     "name": "stderr",
     "output_type": "stream",
     "text": [
      "C:\\Users\\user\\anaconda3\\lib\\site-packages\\skimage\\io\\_plugins\\matplotlib_plugin.py:150: UserWarning: Low image data range; displaying image with stretched contrast.\n",
      "  lo, hi, cmap = _get_display_range(image)\n"
     ]
    },
    {
     "data": {
      "text/plain": [
       "<matplotlib.image.AxesImage at 0x22a35c90850>"
      ]
     },
     "execution_count": 4,
     "metadata": {},
     "output_type": "execute_result"
    },
    {
     "data": {
      "image/png": "[encoded data removed]",
      "text/plain": [
       "<Figure size 432x288 with 2 Axes>"
      ]
     },
     "metadata": {
      "needs_background": "light"
     },
     "output_type": "display_data"
    }
   ],
   "source": [
    "from skimage import io\n",
    "\n",
    "image1 = io.imread(\"1.png\")\n",
    "image2 = io.imread(\"Standard_mask1.png\")\n",
    "\n",
    "image1=np.asarray(image1,np.int16)\n",
    "image2=np.asarray(image2,np.int16)\n",
    "\n",
    "difference_image = np.abs(image1 - image2)\n",
    "io.imshow(difference_image)\n"
   ]
  },
  {
   "cell_type": "code",
   "execution_count": 7,
   "metadata": {},
   "outputs": [
    {
     "data": {
      "text/plain": [
       "<matplotlib.image.AxesImage at 0x22a36050eb0>"
      ]
     },
     "execution_count": 7,
     "metadata": {},
     "output_type": "execute_result"
    },
    {
     "data": {
      "image/png": "[encoded data removed]",
      "text/plain": [
       "<Figure size 432x288 with 2 Axes>"
      ]
     },
     "metadata": {
      "needs_background": "light"
     },
     "output_type": "display_data"
    }
   ],
   "source": [
    "eroded_img= morph_erosion(difference_image)\n",
    "\n",
    "io.imshow(eroded_img)\n"
   ]
  },
  {
   "cell_type": "code",
   "execution_count": 9,
   "metadata": {},
   "outputs": [],
   "source": [
    "img1=(eroded_img**2)\n",
    "\n",
    "mse = 0\n",
    "total_pixels = img1.shape[0] * img1.shape[1] * img1.shape[2]\n",
    "\n",
    "for i in range(img1.shape[0]):\n",
    "    for j in range(img1.shape[1]):\n",
    "        for k in range(img1.shape[2]):\n",
    "            mse += img1[i, j, k]\n",
    "mse /= total_pixels\n"
   ]
  },
  {
   "cell_type": "code",
   "execution_count": 10,
   "metadata": {},
   "outputs": [
    {
     "name": "stdout",
     "output_type": "stream",
     "text": [
      "3.311793009440104\n"
     ]
    }
   ],
   "source": [
    "print(mse)"
   ]
  },
  {
   "cell_type": "code",
   "execution_count": 21,
   "metadata": {},
   "outputs": [
    {
     "data": {
      "text/plain": [
       "<matplotlib.collections.PathCollection at 0x22a359dd0d0>"
      ]
     },
     "execution_count": 21,
     "metadata": {},
     "output_type": "execute_result"
    },
    {
     "data": {
      "image/png": "[encoded data removed]",
      "text/plain": [
       "<Figure size 432x288 with 1 Axes>"
      ]
     },
     "metadata": {
      "needs_background": "light"
     },
     "output_type": "display_data"
    }
   ],
   "source": [
    "from matplotlib import pyplot as plt\n",
    "\n",
    "#Eroding difference image before calculating the ms:\n",
    "\n",
    "humanratings=[2.796,1.867,2.702,2.244,2.021,2.63,2.625,2.551,3.208,4.813,2.646,3.915,2.565]\n",
    "mse_list_test=[]\n",
    "\n",
    "for x in range(1,14):\n",
    "    name1=f\"{x}.png\"\n",
    "    name2=f'Standard_mask{x}.png'\n",
    "    \n",
    "    image1 = io.imread(name1)\n",
    "    image2 = io.imread(name2)\n",
    "    \n",
    "    image1=np.asarray(image1,np.int16)\n",
    "    image2=np.asarray(image2,np.int16)\n",
    "\n",
    "    difference_image = np.abs(image1 - image2)\n",
    "    eroded_img= morph_erosion(difference_image)\n",
    "\n",
    "    img1=(eroded_img**2)\n",
    "\n",
    "    mse = 0\n",
    "    total_pixels = img1.shape[0] * img1.shape[1] * img1.shape[2]\n",
    "\n",
    "    for i in range(img1.shape[0]):\n",
    "        for j in range(img1.shape[1]):\n",
    "            for k in range(img1.shape[2]):\n",
    "                mse += img1[i, j, k]\n",
    "                \n",
    "    mse /= total_pixels\n",
    "    mse_list_test.append(mse)\n",
    "\n",
    "plt.scatter(humanratings, mse_list_test)\n"
   ]
  },
  {
   "cell_type": "code",
   "execution_count": 16,
   "metadata": {
    "scrolled": true
   },
   "outputs": [
    {
     "ename": "NameError",
     "evalue": "name 'rmse_list' is not defined",
     "output_type": "error",
     "traceback": [
      "\u001b[1;31m---------------------------------------------------------------------------\u001b[0m",
      "\u001b[1;31mNameError\u001b[0m                                 Traceback (most recent call last)",
      "\u001b[1;32m<ipython-input-16-f9e18f18631a>\u001b[0m in \u001b[0;36m<module>\u001b[1;34m\u001b[0m\n\u001b[0;32m      1\u001b[0m \u001b[0mfig\u001b[0m\u001b[1;33m,\u001b[0m \u001b[0maxs\u001b[0m \u001b[1;33m=\u001b[0m \u001b[0mplt\u001b[0m\u001b[1;33m.\u001b[0m\u001b[0msubplots\u001b[0m\u001b[1;33m(\u001b[0m\u001b[1;36m1\u001b[0m\u001b[1;33m,\u001b[0m \u001b[1;36m5\u001b[0m\u001b[1;33m,\u001b[0m \u001b[0mfigsize\u001b[0m\u001b[1;33m=\u001b[0m\u001b[1;33m(\u001b[0m\u001b[1;36m20\u001b[0m\u001b[1;33m,\u001b[0m \u001b[1;36m4\u001b[0m\u001b[1;33m)\u001b[0m\u001b[1;33m)\u001b[0m\u001b[1;33m\u001b[0m\u001b[1;33m\u001b[0m\u001b[0m\n\u001b[0;32m      2\u001b[0m \u001b[0mlabels\u001b[0m \u001b[1;33m=\u001b[0m \u001b[1;33m[\u001b[0m\u001b[1;34m'RMSE'\u001b[0m\u001b[1;33m,\u001b[0m \u001b[1;34m'Pixelwise Subtraction Rating'\u001b[0m\u001b[1;33m,\u001b[0m \u001b[1;34m'SSIM'\u001b[0m\u001b[1;33m,\u001b[0m \u001b[1;34m'PSNR'\u001b[0m\u001b[1;33m,\u001b[0m \u001b[1;34m'LPIPS Score'\u001b[0m\u001b[1;33m]\u001b[0m\u001b[1;33m\u001b[0m\u001b[1;33m\u001b[0m\u001b[0m\n\u001b[1;32m----> 3\u001b[1;33m \u001b[0mlists\u001b[0m \u001b[1;33m=\u001b[0m \u001b[1;33m[\u001b[0m\u001b[0mrmse_list\u001b[0m\u001b[1;33m,\u001b[0m \u001b[0mPxlSub_list\u001b[0m\u001b[1;33m,\u001b[0m \u001b[0mSSIM_list\u001b[0m\u001b[1;33m,\u001b[0m \u001b[0mpsnr_list\u001b[0m\u001b[1;33m,\u001b[0m \u001b[0mLPIPS_list\u001b[0m\u001b[1;33m]\u001b[0m\u001b[1;33m\u001b[0m\u001b[1;33m\u001b[0m\u001b[0m\n\u001b[0m\u001b[0;32m      4\u001b[0m \u001b[1;33m\u001b[0m\u001b[0m\n\u001b[0;32m      5\u001b[0m \u001b[1;31m# Pearson Correlation Coefficient\u001b[0m\u001b[1;33m\u001b[0m\u001b[1;33m\u001b[0m\u001b[1;33m\u001b[0m\u001b[0m\n",
      "\u001b[1;31mNameError\u001b[0m: name 'rmse_list' is not defined"
     ]
    },
    {
     "data": {
      "image/png": "[encoded data removed]",
      "text/plain": [
       "<Figure size 1440x288 with 5 Axes>"
      ]
     },
     "metadata": {
      "needs_background": "light"
     },
     "output_type": "display_data"
    }
   ],
   "source": [
    "fig, axs = plt.subplots(1, 5, figsize=(20, 4))\n",
    "labels = ['RMSE', 'Pixelwise Subtraction Rating', 'SSIM', 'PSNR', 'LPIPS Score']\n",
    "lists = [rmse_list, PxlSub_list, SSIM_list, psnr_list, LPIPS_list]\n",
    "\n",
    "# Pearson Correlation Coefficient \n",
    "pcorr_list=[]\n",
    "for i in lists:\n",
    "    k=pearson_correlation(humanratings, i)\n",
    "    pcorr_list.append(k)\n",
    "\n",
    "pcorr_list = [round(num, 2) for num in pcorr_list]\n",
    "\n",
    "for i, label, lst, corr in zip(range(5), labels, lists, pcorr_list):\n",
    "    axs[i].plot(humanratings, lst, 'ro')\n",
    "    axs[i].set_title(\"{} vs Human Rating ({})\".format(label,corr))\n",
    "    axs[i].set_xlabel('Human Rating')\n",
    "    axs[i].set_ylabel(label)\n",
    "\n",
    "plt.tight_layout()\n",
    "plt.show()"
   ]
  },
  {
   "cell_type": "code",
   "execution_count": 24,
   "metadata": {},
   "outputs": [
    {
     "ename": "NameError",
     "evalue": "name 'diffmap' is not defined",
     "output_type": "error",
     "traceback": [
      "\u001b[1;31m---------------------------------------------------------------------------\u001b[0m",
      "\u001b[1;31mNameError\u001b[0m                                 Traceback (most recent call last)",
      "\u001b[1;32m<ipython-input-24-a9d9d242164c>\u001b[0m in \u001b[0;36m<module>\u001b[1;34m\u001b[0m\n\u001b[0;32m      1\u001b[0m \u001b[0maxs\u001b[0m \u001b[1;33m=\u001b[0m \u001b[0mplt\u001b[0m\u001b[1;33m.\u001b[0m\u001b[0msubplots\u001b[0m\u001b[1;33m(\u001b[0m\u001b[1;36m1\u001b[0m\u001b[1;33m,\u001b[0m \u001b[1;36m4\u001b[0m\u001b[1;33m,\u001b[0m \u001b[0mfigsize\u001b[0m\u001b[1;33m=\u001b[0m\u001b[1;33m(\u001b[0m\u001b[1;36m20\u001b[0m\u001b[1;33m,\u001b[0m\u001b[1;36m4\u001b[0m\u001b[1;33m)\u001b[0m\u001b[1;33m)\u001b[0m\u001b[1;33m\u001b[0m\u001b[1;33m\u001b[0m\u001b[0m\n\u001b[0;32m      2\u001b[0m \u001b[0mlabels\u001b[0m \u001b[1;33m=\u001b[0m \u001b[1;33m[\u001b[0m\u001b[1;34m'Cleft Image'\u001b[0m\u001b[1;33m,\u001b[0m \u001b[1;34m'Normalized Image'\u001b[0m\u001b[1;33m,\u001b[0m \u001b[1;34m'Difference Image'\u001b[0m\u001b[1;33m,\u001b[0m \u001b[1;34m'Difference Heatmap'\u001b[0m\u001b[1;33m]\u001b[0m\u001b[1;33m\u001b[0m\u001b[1;33m\u001b[0m\u001b[0m\n\u001b[1;32m----> 3\u001b[1;33m \u001b[0mlists\u001b[0m \u001b[1;33m=\u001b[0m \u001b[1;33m[\u001b[0m\u001b[0mimage1\u001b[0m\u001b[1;33m,\u001b[0m \u001b[0mimage2\u001b[0m\u001b[1;33m,\u001b[0m \u001b[0mdifference_image\u001b[0m\u001b[1;33m,\u001b[0m \u001b[0mdiffmap\u001b[0m\u001b[1;33m]\u001b[0m\u001b[1;33m\u001b[0m\u001b[1;33m\u001b[0m\u001b[0m\n\u001b[0m\u001b[0;32m      4\u001b[0m \u001b[1;33m\u001b[0m\u001b[0m\n\u001b[0;32m      5\u001b[0m \u001b[1;31m# Iterate through the images and display them with their labels\u001b[0m\u001b[1;33m\u001b[0m\u001b[1;33m\u001b[0m\u001b[1;33m\u001b[0m\u001b[0m\n",
      "\u001b[1;31mNameError\u001b[0m: name 'diffmap' is not defined"
     ]
    },
    {
     "data": {
      "image/png": "[encoded data removed]",
      "text/plain": [
       "<Figure size 1440x288 with 4 Axes>"
      ]
     },
     "metadata": {
      "needs_background": "light"
     },
     "output_type": "display_data"
    }
   ],
   "source": [
    "axs = plt.subplots(1, 4, figsize=(20,4))\n",
    "labels = ['Cleft Image', 'Normalized Image', 'Difference Image', 'Difference Heatmap']\n",
    "lists = [image1, image2, difference_image, diffmap]\n",
    "\n",
    "# Iterate through the images and display them with their labels\n",
    "for i, img in enumerate(lists):\n",
    "    axs[1][i].imshow(img)\n",
    "    axs[1][i].set_title(labels[i])\n",
    "\n",
    "# Show the plot\n",
    "#plt.tight_layout()\n",
    "#plt.show()\n",
    "\n",
    "plt.savefig(f\"Set_{x}.png\")\n"
   ]
  },
  {
   "cell_type": "code",
   "execution_count": 6,
   "metadata": {},
   "outputs": [
    {
     "data": {
      "text/plain": [
       "-1"
      ]
     },
     "execution_count": 6,
     "metadata": {},
     "output_type": "execute_result"
    }
   ],
   "source": [
    "Cleft_image= cv2.imread(\"1.png\")\n",
    "normalised_img = cv2.imread(\"Standard_mask1.png\")\n",
    "\n",
    "# Perform morphological erosion on the color image\n",
    "eroded_img = morph_erosion(normalised_img)\n",
    "\n",
    "cv2.imshow('Cleft Image', Cleft_image)\n",
    "cv2.imshow('Normalised Image from Stable Diffusion', normalised_img)\n",
    "cv2.imshow('Eroded Image', eroded_img)\n",
    "cv2.waitKey(0)\n"
   ]
  },
  {
   "cell_type": "code",
   "execution_count": 56,
   "metadata": {},
   "outputs": [],
   "source": [
    "#morphological erosion is usually done on gray scale images?\n",
    "#shouldnt the erosion be done on the difference image? yes, 3 times\n",
    "#Should we try results from other inpainting algorithms?\n",
    "#how to convert 3 grayscale channels to one color image\n",
    "\n",
    "#hsv\n",
    "#thresholding\n",
    "#lpips heat maps"
   ]
  },
  {
   "cell_type": "code",
   "execution_count": null,
   "metadata": {},
   "outputs": [],
   "source": [
    "import numpy as np\n",
    "from skimage import io\n",
    "from matplotlib import pyplot as plt\n",
    "import skimage\n",
    "from skimage import metrics\n",
    "\n",
    "PxlSub_list=[]\n",
    "mse_list=[]\n",
    "humanratings=[2.796,1.867,2.702,2.244,2.021,2.63,2.625,2.551,3.208,4.813,2.646,3.915,2.565]\n",
    "\n",
    "for x in range(1,14):\n",
    "    name1=f\"{x}.png\"\n",
    "    name2=f'Standard_mask{x}.png'\n",
    "    \n",
    "    image1 = io.imread(name1)\n",
    "    image2 = io.imread(name2)\n",
    "    \n",
    "    #using the image that has undergone morphological erosion\n",
    "    image2=morph_erosion(image2)\n",
    "    \n",
    "#Image Compasison Techniques:\n",
    "   \n",
    "    mse = mean_squared_error(image1, image2)\n",
    "    mse_list.append(mse)\n",
    "    \n",
    "    PxlSub = 5-(np.log10(np.sqrt(mse)*1000))\n",
    "    PxlSub_list.append(PxlSub)"
   ]
  },
  {
   "cell_type": "code",
   "execution_count": 87,
   "metadata": {},
   "outputs": [
    {
     "data": {
      "image/png": "[encoded data removed]",
      "text/plain": [
       "<Figure size 432x288 with 1 Axes>"
      ]
     },
     "metadata": {
      "needs_background": "light"
     },
     "output_type": "display_data"
    }
   ],
   "source": [
    "humanratings = np.array(humanratings)\n",
    "PxlSub_list = np.array(PxlSub_list)\n",
    "\n",
    "a, b = np.polyfit(humanratings,PxlSub_list, 1)\n",
    "plt.scatter(humanratings, PxlSub_list)\n",
    "\n",
    "#add line of best fit to plot\n",
    "plt.plot(humanratings, a*humanratings+b)\n",
    "\n",
    "plt.ylabel(\"Pxl-Sub Ratings\")\n",
    "plt.xlabel(\"Human Ratings\")\n",
    "plt.title(\"Human Ratings vs PxLSub\")\n",
    "\n",
    "plt.show()\n"
   ]
  },
  {
   "cell_type": "code",
   "execution_count": null,
   "metadata": {},
   "outputs": [],
   "source": []
  }
 ],
 "metadata": {
  "kernelspec": {
   "display_name": "Python 3",
   "language": "python",
   "name": "python3"
  },
  "language_info": {
   "codemirror_mode": {
    "name": "ipython",
    "version": 3
   },
   "file_extension": ".py",
   "mimetype": "text/x-python",
   "name": "python",
   "nbconvert_exporter": "python",
   "pygments_lexer": "ipython3",
   "version": "3.8.5"
  }
 },
 "nbformat": 4,
 "nbformat_minor": 4
}
